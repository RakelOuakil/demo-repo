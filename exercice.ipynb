{
  "cells": [
    {
      "cell_type": "markdown",
      "metadata": {
        "id": "view-in-github",
        "colab_type": "text"
      },
      "source": [
        "<a href=\"https://colab.research.google.com/github/RakelOuakil/demo-repo/blob/main/exercice.ipynb\" target=\"_parent\"><img src=\"https://colab.research.google.com/assets/colab-badge.svg\" alt=\"Open In Colab\"/></a>"
      ]
    },
    {
      "cell_type": "markdown",
      "metadata": {
        "id": "mqE713u3_Gh6"
      },
      "source": [
        "# Introduction"
      ]
    },
    {
      "cell_type": "code",
      "execution_count": 1,
      "metadata": {
        "id": "Qq5RxELl_GiA"
      },
      "outputs": [],
      "source": [
        "import numpy as np\n",
        "\n",
        "# Données des tâches (M1, M2, M3) - Chaque colonne représente une tâche\n",
        "taches = np.array([\n",
        "    [6, 3, 10, 14, 5, 9, 7, 11, 2, 3],  # Temps sur M1\n",
        "    [1, 5, 4, 6, 10, 6, 9, 8, 6, 1],   # Temps sur M2\n",
        "    [5, 8, 1, 3, 6, 10, 12, 9, 6, 7]   # Temps sur M3\n",
        "])\n",
        "\n",
        "nb_taches = taches.shape[1]  # Nombre de tâches"
      ]
    },
    {
      "cell_type": "code",
      "execution_count": 2,
      "metadata": {
        "id": "zeiEo9UU_GiI"
      },
      "outputs": [],
      "source": [
        "def calculer_cmax(sequence):\n",
        "    temps = np.zeros((3, len(sequence)))\n",
        "    temps[0, 0] = taches[0, sequence[0]]\n",
        "    temps[1, 0] = temps[0, 0] + taches[1, sequence[0]]\n",
        "    temps[2, 0] = temps[1, 0] + taches[2, sequence[0]]\n",
        "\n",
        "    for i in range(1, len(sequence)):\n",
        "        temps[0, i] = temps[0, i-1] + taches[0, sequence[i]]\n",
        "        temps[1, i] = max(temps[0, i], temps[1, i-1]) + taches[1, sequence[i]]\n",
        "        temps[2, i] = max(temps[1, i], temps[2, i-1]) + taches[2, sequence[i]]\n",
        "\n",
        "    return temps[2, -1]"
      ]
    },
    {
      "cell_type": "code",
      "execution_count": 3,
      "metadata": {
        "id": "8WCQ0yIy_GiO"
      },
      "outputs": [],
      "source": [
        "sequence = list(range(nb_taches))"
      ]
    },
    {
      "cell_type": "markdown",
      "metadata": {
        "id": "qirG7zzr_GiQ"
      },
      "source": [
        "# Methode De Liste"
      ]
    },
    {
      "cell_type": "markdown",
      "metadata": {
        "id": "b37S1h1u_GiV"
      },
      "source": [
        "### Règle de priorité : SPT (Shortest Processing Time)"
      ]
    },
    {
      "cell_type": "code",
      "execution_count": 4,
      "metadata": {
        "colab": {
          "base_uri": "https://localhost:8080/"
        },
        "id": "fWY7lZo6_GiW",
        "outputId": "69f57458-40eb-4e9c-a36e-1718428954a1"
      },
      "outputs": [
        {
          "output_type": "stream",
          "name": "stdout",
          "text": [
            "Ordre des tâches selon SPT : [8, 1, 9, 4, 0, 6, 5, 2, 7, 3]\n",
            "Cmax pour cet ordre : 79.0\n"
          ]
        }
      ],
      "source": [
        "def methode_liste(l):\n",
        "    U= []\n",
        "    t=0\n",
        "    taches_restantes = list(range(nb_taches))\n",
        "    while taches_restantes:\n",
        "        taches_dispo = [j for j in taches_restantes if taches[0][j] > 0]\n",
        "        if taches_dispo :\n",
        "            i = min(taches_dispo, key=lambda j: taches[0][j])\n",
        "            U.append(i)\n",
        "            taches_restantes.remove(i)\n",
        "        else :\n",
        "            t = min([taches[0][j] for j in taches_restantes])\n",
        "    return U\n",
        "\n",
        "\n",
        "# Exécution de l'algorithme\n",
        "ordre_taches = methode_liste(taches)\n",
        "cmax_spt = calculer_cmax(ordre_taches)\n",
        "\n",
        "# Affichage des résultats\n",
        "print(\"Ordre des tâches selon SPT :\", ordre_taches)\n",
        "print(\"Cmax pour cet ordre :\", cmax_spt)"
      ]
    },
    {
      "cell_type": "markdown",
      "metadata": {
        "id": "ahDtkLhd_Gib"
      },
      "source": [
        "# Méthode de Johnson avec machine virtuelle MV = M1 + M2"
      ]
    },
    {
      "cell_type": "code",
      "execution_count": 5,
      "metadata": {
        "colab": {
          "base_uri": "https://localhost:8080/"
        },
        "id": "xjECQado_Gic",
        "outputId": "ef4b8062-f9c1-471a-ffc1-05c346be425e"
      },
      "outputs": [
        {
          "output_type": "stream",
          "name": "stdout",
          "text": [
            "Ordre des tâches selon Johnson : [9, 1, 6, 5, 7, 4, 8, 0, 3, 2]\n",
            "Cmax pour cet ordre : 75.0\n"
          ]
        }
      ],
      "source": [
        "def methode_johnson_mv():\n",
        "    mv = taches[0] + taches[1]  # Machine Virtuelle MV = M1 + M2\n",
        "    m3 = taches[2]\n",
        "\n",
        "    indices = list(range(nb_taches))\n",
        "    debut, fin = [], []\n",
        "\n",
        "    for i in indices:\n",
        "        if mv[i] <= m3[i]:\n",
        "            debut.append(i)\n",
        "        else:\n",
        "            fin.append(i)\n",
        "    debut.sort(key=lambda j: mv[j])\n",
        "    fin.sort(key=lambda j: m3[j], reverse=True)\n",
        "\n",
        "    return debut + fin\n",
        "\n",
        "\n",
        "\n",
        "\n",
        "ordre_johnson = methode_johnson_mv()\n",
        "cmax_johnson = calculer_cmax(ordre_johnson)\n",
        "\n",
        "\n",
        "print(\"Ordre des tâches selon Johnson :\", ordre_johnson)\n",
        "print(\"Cmax pour cet ordre :\", cmax_johnson)"
      ]
    },
    {
      "cell_type": "markdown",
      "metadata": {
        "id": "vlFNYzNP_Gid"
      },
      "source": [
        "# Méthode de voisinage"
      ]
    },
    {
      "cell_type": "code",
      "execution_count": 6,
      "metadata": {
        "colab": {
          "base_uri": "https://localhost:8080/"
        },
        "id": "dAgH-85q_Gid",
        "outputId": "2920d9a0-cfeb-4ecf-9b1c-1c1eaccda2c8"
      },
      "outputs": [
        {
          "output_type": "stream",
          "name": "stdout",
          "text": [
            "Meilleure séquence pour la méthode de voisinage : [9, 1, 6, 5, 7, 4, 8, 0, 3, 2], Cmax : 75.0\n"
          ]
        }
      ],
      "source": [
        "def recherche_voisinage(seq):\n",
        "    meilleure_seq, meilleur_cmax = seq[:], calculer_cmax(seq)\n",
        "    for i in range(len(seq) - 1):\n",
        "        voisin = seq[:]\n",
        "        voisin[i], voisin[i+1] = voisin[i+1], voisin[i]\n",
        "        cmax_voisin = calculer_cmax(voisin)\n",
        "        if cmax_voisin < meilleur_cmax:\n",
        "            meilleure_seq, meilleur_cmax = voisin, cmax_voisin\n",
        "\n",
        "    return meilleure_seq, meilleur_cmax\n",
        "\n",
        "# Exemple d'utilisation avec la séquence générée par une méthode comme Johnson\n",
        "sequence_initiale = [9, 1, 6, 5, 7, 4, 8, 0, 3, 2]\n",
        "meilleure_sequence, cmax_optimal = recherche_voisinage(sequence_initiale)\n",
        "\n",
        "\n",
        "print(f\"Meilleure séquence pour la méthode de voisinage : {meilleure_sequence}, Cmax : {cmax_optimal}\")"
      ]
    },
    {
      "cell_type": "markdown",
      "metadata": {
        "id": "EJd-Vga7_Gie"
      },
      "source": [
        "# Conclusion"
      ]
    },
    {
      "cell_type": "markdown",
      "metadata": {
        "id": "16mF6IBC_Gie"
      },
      "source": [
        "SPT (Shortest Processing Time) : L'ordre des tâches est [8, 1, 9, 4, 0, 6, 5, 2, 7, 3], avec un Cmax de 79.0. Cette méthode privilégie les tâches courtes en premier, mais donne un Cmax plus élevé.\n",
        "\n",
        "Johnson (avec machine virtuelle M1 + M2) : L'ordre des tâches est [9, 1, 6, 5, 7, 4, 8, 0, 3, 2], avec un Cmax de 75.0. Cette méthode optimise mieux le Cmax en prenant en compte toutes les machines.\n",
        "\n",
        "Méthode de voisinage : La séquence obtenue est la même que celle de Johnson, avec un Cmax de 75.0. Cela montre que la méthode de voisinage n'a pas amélioré la solution de Johnson.\n",
        "\n",
        "Conclusion : La méthode Johnson est la plus efficace pour minimiser le Cmax."
      ]
    }
  ],
  "metadata": {
    "kernelspec": {
      "display_name": "Python 3",
      "language": "python",
      "name": "python3"
    },
    "language_info": {
      "codemirror_mode": {
        "name": "ipython",
        "version": 3
      },
      "file_extension": ".py",
      "mimetype": "text/x-python",
      "name": "python",
      "nbconvert_exporter": "python",
      "pygments_lexer": "ipython3",
      "version": "3.11.9"
    },
    "colab": {
      "provenance": [],
      "include_colab_link": true
    }
  },
  "nbformat": 4,
  "nbformat_minor": 0
}